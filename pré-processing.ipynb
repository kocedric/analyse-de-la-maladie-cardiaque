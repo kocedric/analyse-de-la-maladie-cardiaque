{
 "cells": [
  {
   "cell_type": "markdown",
   "id": "f0389a9d",
   "metadata": {},
   "source": [
    "# Préprocessing simple et prémier modèle"
   ]
  },
  {
   "cell_type": "code",
   "execution_count": 1,
   "id": "c9db65ab",
   "metadata": {},
   "outputs": [],
   "source": [
    "import numpy as np\n",
    "import pandas as pd"
   ]
  },
  {
   "cell_type": "code",
   "execution_count": 2,
   "id": "49d105a5",
   "metadata": {},
   "outputs": [],
   "source": [
    "data = pd.read_excel(\"data/dataset.xlsx\")"
   ]
  },
  {
   "cell_type": "code",
   "execution_count": 3,
   "id": "ce10f080",
   "metadata": {},
   "outputs": [],
   "source": [
    "df = data.copy()\n",
    "num_cols = df.select_dtypes(exclude='object').columns\n",
    "objet_cols = df.select_dtypes(exclude=np.number).columns"
   ]
  },
  {
   "cell_type": "code",
   "execution_count": 4,
   "id": "151c848b",
   "metadata": {},
   "outputs": [],
   "source": [
    "# Je convertis en liste pour pouvoir faire un append des variables GAJ et COEUR\n",
    "objet_cols = objet_cols.to_list()\n",
    "objet_cols.append('GAJ')\n",
    "objet_cols.append('CŒUR')\n",
    "num_cols = num_cols.drop(['GAJ', 'CŒUR'])"
   ]
  },
  {
   "cell_type": "code",
   "execution_count": 5,
   "id": "9c110514",
   "metadata": {},
   "outputs": [
    {
     "data": {
      "text/html": [
       "<div>\n",
       "<style scoped>\n",
       "    .dataframe tbody tr th:only-of-type {\n",
       "        vertical-align: middle;\n",
       "    }\n",
       "\n",
       "    .dataframe tbody tr th {\n",
       "        vertical-align: top;\n",
       "    }\n",
       "\n",
       "    .dataframe thead th {\n",
       "        text-align: right;\n",
       "    }\n",
       "</style>\n",
       "<table border=\"1\" class=\"dataframe\">\n",
       "  <thead>\n",
       "    <tr style=\"text-align: right;\">\n",
       "      <th></th>\n",
       "      <th>SEXE</th>\n",
       "      <th>TDT</th>\n",
       "      <th>ECG</th>\n",
       "      <th>ANGINE</th>\n",
       "      <th>PENTE</th>\n",
       "      <th>GAJ</th>\n",
       "      <th>CŒUR</th>\n",
       "    </tr>\n",
       "  </thead>\n",
       "  <tbody>\n",
       "    <tr>\n",
       "      <th>0</th>\n",
       "      <td>homme</td>\n",
       "      <td>AA</td>\n",
       "      <td>Normal</td>\n",
       "      <td>Non</td>\n",
       "      <td>Ascendant</td>\n",
       "      <td>0</td>\n",
       "      <td>0</td>\n",
       "    </tr>\n",
       "    <tr>\n",
       "      <th>1</th>\n",
       "      <td>femme</td>\n",
       "      <td>DNA</td>\n",
       "      <td>Normal</td>\n",
       "      <td>Non</td>\n",
       "      <td>Plat</td>\n",
       "      <td>0</td>\n",
       "      <td>1</td>\n",
       "    </tr>\n",
       "    <tr>\n",
       "      <th>2</th>\n",
       "      <td>homme</td>\n",
       "      <td>AA</td>\n",
       "      <td>ST</td>\n",
       "      <td>Non</td>\n",
       "      <td>Ascendant</td>\n",
       "      <td>0</td>\n",
       "      <td>0</td>\n",
       "    </tr>\n",
       "    <tr>\n",
       "      <th>3</th>\n",
       "      <td>femme</td>\n",
       "      <td>ASY</td>\n",
       "      <td>Normal</td>\n",
       "      <td>Oui</td>\n",
       "      <td>Plat</td>\n",
       "      <td>0</td>\n",
       "      <td>1</td>\n",
       "    </tr>\n",
       "    <tr>\n",
       "      <th>4</th>\n",
       "      <td>homme</td>\n",
       "      <td>DNA</td>\n",
       "      <td>Normal</td>\n",
       "      <td>Non</td>\n",
       "      <td>Ascendant</td>\n",
       "      <td>0</td>\n",
       "      <td>0</td>\n",
       "    </tr>\n",
       "    <tr>\n",
       "      <th>...</th>\n",
       "      <td>...</td>\n",
       "      <td>...</td>\n",
       "      <td>...</td>\n",
       "      <td>...</td>\n",
       "      <td>...</td>\n",
       "      <td>...</td>\n",
       "      <td>...</td>\n",
       "    </tr>\n",
       "    <tr>\n",
       "      <th>913</th>\n",
       "      <td>homme</td>\n",
       "      <td>AT</td>\n",
       "      <td>Normal</td>\n",
       "      <td>Non</td>\n",
       "      <td>Plat</td>\n",
       "      <td>0</td>\n",
       "      <td>1</td>\n",
       "    </tr>\n",
       "    <tr>\n",
       "      <th>914</th>\n",
       "      <td>homme</td>\n",
       "      <td>ASY</td>\n",
       "      <td>Normal</td>\n",
       "      <td>Non</td>\n",
       "      <td>Plat</td>\n",
       "      <td>1</td>\n",
       "      <td>1</td>\n",
       "    </tr>\n",
       "    <tr>\n",
       "      <th>915</th>\n",
       "      <td>homme</td>\n",
       "      <td>ASY</td>\n",
       "      <td>Normal</td>\n",
       "      <td>Oui</td>\n",
       "      <td>Plat</td>\n",
       "      <td>0</td>\n",
       "      <td>1</td>\n",
       "    </tr>\n",
       "    <tr>\n",
       "      <th>916</th>\n",
       "      <td>femme</td>\n",
       "      <td>AA</td>\n",
       "      <td>LVH</td>\n",
       "      <td>Non</td>\n",
       "      <td>Plat</td>\n",
       "      <td>0</td>\n",
       "      <td>1</td>\n",
       "    </tr>\n",
       "    <tr>\n",
       "      <th>917</th>\n",
       "      <td>homme</td>\n",
       "      <td>DNA</td>\n",
       "      <td>Normal</td>\n",
       "      <td>Non</td>\n",
       "      <td>Ascendant</td>\n",
       "      <td>0</td>\n",
       "      <td>0</td>\n",
       "    </tr>\n",
       "  </tbody>\n",
       "</table>\n",
       "<p>918 rows × 7 columns</p>\n",
       "</div>"
      ],
      "text/plain": [
       "      SEXE  TDT     ECG ANGINE      PENTE  GAJ  CŒUR\n",
       "0    homme   AA  Normal    Non  Ascendant    0     0\n",
       "1    femme  DNA  Normal    Non       Plat    0     1\n",
       "2    homme   AA      ST    Non  Ascendant    0     0\n",
       "3    femme  ASY  Normal    Oui       Plat    0     1\n",
       "4    homme  DNA  Normal    Non  Ascendant    0     0\n",
       "..     ...  ...     ...    ...        ...  ...   ...\n",
       "913  homme   AT  Normal    Non       Plat    0     1\n",
       "914  homme  ASY  Normal    Non       Plat    1     1\n",
       "915  homme  ASY  Normal    Oui       Plat    0     1\n",
       "916  femme   AA     LVH    Non       Plat    0     1\n",
       "917  homme  DNA  Normal    Non  Ascendant    0     0\n",
       "\n",
       "[918 rows x 7 columns]"
      ]
     },
     "execution_count": 5,
     "metadata": {},
     "output_type": "execute_result"
    }
   ],
   "source": [
    "df[objet_cols]"
   ]
  },
  {
   "cell_type": "code",
   "execution_count": 6,
   "id": "7f172693",
   "metadata": {},
   "outputs": [
    {
     "data": {
      "text/html": [
       "<div>\n",
       "<style scoped>\n",
       "    .dataframe tbody tr th:only-of-type {\n",
       "        vertical-align: middle;\n",
       "    }\n",
       "\n",
       "    .dataframe tbody tr th {\n",
       "        vertical-align: top;\n",
       "    }\n",
       "\n",
       "    .dataframe thead th {\n",
       "        text-align: right;\n",
       "    }\n",
       "</style>\n",
       "<table border=\"1\" class=\"dataframe\">\n",
       "  <thead>\n",
       "    <tr style=\"text-align: right;\">\n",
       "      <th></th>\n",
       "      <th>AGE</th>\n",
       "      <th>PAR</th>\n",
       "      <th>CHOLESTEROL</th>\n",
       "      <th>FCMAX</th>\n",
       "      <th>DEPRESSION</th>\n",
       "    </tr>\n",
       "  </thead>\n",
       "  <tbody>\n",
       "    <tr>\n",
       "      <th>0</th>\n",
       "      <td>40</td>\n",
       "      <td>140</td>\n",
       "      <td>289</td>\n",
       "      <td>172</td>\n",
       "      <td>0.0</td>\n",
       "    </tr>\n",
       "    <tr>\n",
       "      <th>1</th>\n",
       "      <td>49</td>\n",
       "      <td>160</td>\n",
       "      <td>180</td>\n",
       "      <td>156</td>\n",
       "      <td>1.0</td>\n",
       "    </tr>\n",
       "    <tr>\n",
       "      <th>2</th>\n",
       "      <td>37</td>\n",
       "      <td>130</td>\n",
       "      <td>283</td>\n",
       "      <td>98</td>\n",
       "      <td>0.0</td>\n",
       "    </tr>\n",
       "    <tr>\n",
       "      <th>3</th>\n",
       "      <td>48</td>\n",
       "      <td>138</td>\n",
       "      <td>214</td>\n",
       "      <td>108</td>\n",
       "      <td>1.5</td>\n",
       "    </tr>\n",
       "    <tr>\n",
       "      <th>4</th>\n",
       "      <td>54</td>\n",
       "      <td>150</td>\n",
       "      <td>195</td>\n",
       "      <td>122</td>\n",
       "      <td>0.0</td>\n",
       "    </tr>\n",
       "    <tr>\n",
       "      <th>...</th>\n",
       "      <td>...</td>\n",
       "      <td>...</td>\n",
       "      <td>...</td>\n",
       "      <td>...</td>\n",
       "      <td>...</td>\n",
       "    </tr>\n",
       "    <tr>\n",
       "      <th>913</th>\n",
       "      <td>45</td>\n",
       "      <td>110</td>\n",
       "      <td>264</td>\n",
       "      <td>132</td>\n",
       "      <td>1.2</td>\n",
       "    </tr>\n",
       "    <tr>\n",
       "      <th>914</th>\n",
       "      <td>68</td>\n",
       "      <td>144</td>\n",
       "      <td>193</td>\n",
       "      <td>141</td>\n",
       "      <td>3.4</td>\n",
       "    </tr>\n",
       "    <tr>\n",
       "      <th>915</th>\n",
       "      <td>57</td>\n",
       "      <td>130</td>\n",
       "      <td>131</td>\n",
       "      <td>115</td>\n",
       "      <td>1.2</td>\n",
       "    </tr>\n",
       "    <tr>\n",
       "      <th>916</th>\n",
       "      <td>57</td>\n",
       "      <td>130</td>\n",
       "      <td>236</td>\n",
       "      <td>174</td>\n",
       "      <td>0.0</td>\n",
       "    </tr>\n",
       "    <tr>\n",
       "      <th>917</th>\n",
       "      <td>38</td>\n",
       "      <td>138</td>\n",
       "      <td>175</td>\n",
       "      <td>173</td>\n",
       "      <td>0.0</td>\n",
       "    </tr>\n",
       "  </tbody>\n",
       "</table>\n",
       "<p>918 rows × 5 columns</p>\n",
       "</div>"
      ],
      "text/plain": [
       "     AGE  PAR  CHOLESTEROL  FCMAX  DEPRESSION\n",
       "0     40  140          289    172         0.0\n",
       "1     49  160          180    156         1.0\n",
       "2     37  130          283     98         0.0\n",
       "3     48  138          214    108         1.5\n",
       "4     54  150          195    122         0.0\n",
       "..   ...  ...          ...    ...         ...\n",
       "913   45  110          264    132         1.2\n",
       "914   68  144          193    141         3.4\n",
       "915   57  130          131    115         1.2\n",
       "916   57  130          236    174         0.0\n",
       "917   38  138          175    173         0.0\n",
       "\n",
       "[918 rows x 5 columns]"
      ]
     },
     "execution_count": 6,
     "metadata": {},
     "output_type": "execute_result"
    }
   ],
   "source": [
    "df[num_cols]"
   ]
  },
  {
   "cell_type": "code",
   "execution_count": 7,
   "id": "80b74f3a",
   "metadata": {},
   "outputs": [
    {
     "name": "stdout",
     "output_type": "stream",
     "text": [
      "SEXE\n",
      "['homme' 'femme']\n",
      "\n",
      "\n",
      "TDT\n",
      "['AA' 'DNA' 'ASY' 'AT']\n",
      "\n",
      "\n",
      "ECG\n",
      "['Normal' 'ST' 'LVH']\n",
      "\n",
      "\n",
      "ANGINE\n",
      "['Non' 'Oui']\n",
      "\n",
      "\n",
      "PENTE\n",
      "['Ascendant' 'Plat' 'Descendant']\n",
      "\n",
      "\n",
      "GAJ\n",
      "[0 1]\n",
      "\n",
      "\n",
      "CŒUR\n",
      "[0 1]\n",
      "\n",
      "\n"
     ]
    }
   ],
   "source": [
    "for col in objet_cols:\n",
    "    mod = df[col].unique()\n",
    "    print(f\"{col}\\n{mod}\\n\\n\")"
   ]
  },
  {
   "cell_type": "code",
   "execution_count": 8,
   "id": "7e535f37",
   "metadata": {},
   "outputs": [],
   "source": [
    "#fonction d'encodage des variables qualitatives\n",
    "def encode_object(dataframe):\n",
    "    df['ECG'].replace({'Normal': 0, 'ST': 1,'LVH':2}, inplace=True)\n",
    "    df['SEXE'].replace({'femme': 0, 'homme': 1}, inplace=True)\n",
    "    df['ANGINE'].replace({'Oui': 1, 'Non': 0}, inplace=True)\n",
    "    df['TDT'].replace({'AT': 0, 'AA': 1,'DNA':2,'ASY':3}, inplace=True)\n",
    "    df['PENTE'].replace({'Ascendant': 0,'Plat': 1, 'Descendant': 2}, inplace=True)\n",
    "    return df"
   ]
  },
  {
   "cell_type": "code",
   "execution_count": 9,
   "id": "3305edbc",
   "metadata": {},
   "outputs": [
    {
     "data": {
      "text/html": [
       "<div>\n",
       "<style scoped>\n",
       "    .dataframe tbody tr th:only-of-type {\n",
       "        vertical-align: middle;\n",
       "    }\n",
       "\n",
       "    .dataframe tbody tr th {\n",
       "        vertical-align: top;\n",
       "    }\n",
       "\n",
       "    .dataframe thead th {\n",
       "        text-align: right;\n",
       "    }\n",
       "</style>\n",
       "<table border=\"1\" class=\"dataframe\">\n",
       "  <thead>\n",
       "    <tr style=\"text-align: right;\">\n",
       "      <th></th>\n",
       "      <th>AGE</th>\n",
       "      <th>SEXE</th>\n",
       "      <th>TDT</th>\n",
       "      <th>PAR</th>\n",
       "      <th>CHOLESTEROL</th>\n",
       "      <th>GAJ</th>\n",
       "      <th>ECG</th>\n",
       "      <th>FCMAX</th>\n",
       "      <th>ANGINE</th>\n",
       "      <th>DEPRESSION</th>\n",
       "      <th>PENTE</th>\n",
       "      <th>CŒUR</th>\n",
       "    </tr>\n",
       "  </thead>\n",
       "  <tbody>\n",
       "    <tr>\n",
       "      <th>0</th>\n",
       "      <td>40</td>\n",
       "      <td>1</td>\n",
       "      <td>1</td>\n",
       "      <td>140</td>\n",
       "      <td>289</td>\n",
       "      <td>0</td>\n",
       "      <td>0</td>\n",
       "      <td>172</td>\n",
       "      <td>0</td>\n",
       "      <td>0.0</td>\n",
       "      <td>0</td>\n",
       "      <td>0</td>\n",
       "    </tr>\n",
       "    <tr>\n",
       "      <th>1</th>\n",
       "      <td>49</td>\n",
       "      <td>0</td>\n",
       "      <td>2</td>\n",
       "      <td>160</td>\n",
       "      <td>180</td>\n",
       "      <td>0</td>\n",
       "      <td>0</td>\n",
       "      <td>156</td>\n",
       "      <td>0</td>\n",
       "      <td>1.0</td>\n",
       "      <td>1</td>\n",
       "      <td>1</td>\n",
       "    </tr>\n",
       "    <tr>\n",
       "      <th>2</th>\n",
       "      <td>37</td>\n",
       "      <td>1</td>\n",
       "      <td>1</td>\n",
       "      <td>130</td>\n",
       "      <td>283</td>\n",
       "      <td>0</td>\n",
       "      <td>1</td>\n",
       "      <td>98</td>\n",
       "      <td>0</td>\n",
       "      <td>0.0</td>\n",
       "      <td>0</td>\n",
       "      <td>0</td>\n",
       "    </tr>\n",
       "    <tr>\n",
       "      <th>3</th>\n",
       "      <td>48</td>\n",
       "      <td>0</td>\n",
       "      <td>3</td>\n",
       "      <td>138</td>\n",
       "      <td>214</td>\n",
       "      <td>0</td>\n",
       "      <td>0</td>\n",
       "      <td>108</td>\n",
       "      <td>1</td>\n",
       "      <td>1.5</td>\n",
       "      <td>1</td>\n",
       "      <td>1</td>\n",
       "    </tr>\n",
       "    <tr>\n",
       "      <th>4</th>\n",
       "      <td>54</td>\n",
       "      <td>1</td>\n",
       "      <td>2</td>\n",
       "      <td>150</td>\n",
       "      <td>195</td>\n",
       "      <td>0</td>\n",
       "      <td>0</td>\n",
       "      <td>122</td>\n",
       "      <td>0</td>\n",
       "      <td>0.0</td>\n",
       "      <td>0</td>\n",
       "      <td>0</td>\n",
       "    </tr>\n",
       "    <tr>\n",
       "      <th>...</th>\n",
       "      <td>...</td>\n",
       "      <td>...</td>\n",
       "      <td>...</td>\n",
       "      <td>...</td>\n",
       "      <td>...</td>\n",
       "      <td>...</td>\n",
       "      <td>...</td>\n",
       "      <td>...</td>\n",
       "      <td>...</td>\n",
       "      <td>...</td>\n",
       "      <td>...</td>\n",
       "      <td>...</td>\n",
       "    </tr>\n",
       "    <tr>\n",
       "      <th>913</th>\n",
       "      <td>45</td>\n",
       "      <td>1</td>\n",
       "      <td>0</td>\n",
       "      <td>110</td>\n",
       "      <td>264</td>\n",
       "      <td>0</td>\n",
       "      <td>0</td>\n",
       "      <td>132</td>\n",
       "      <td>0</td>\n",
       "      <td>1.2</td>\n",
       "      <td>1</td>\n",
       "      <td>1</td>\n",
       "    </tr>\n",
       "    <tr>\n",
       "      <th>914</th>\n",
       "      <td>68</td>\n",
       "      <td>1</td>\n",
       "      <td>3</td>\n",
       "      <td>144</td>\n",
       "      <td>193</td>\n",
       "      <td>1</td>\n",
       "      <td>0</td>\n",
       "      <td>141</td>\n",
       "      <td>0</td>\n",
       "      <td>3.4</td>\n",
       "      <td>1</td>\n",
       "      <td>1</td>\n",
       "    </tr>\n",
       "    <tr>\n",
       "      <th>915</th>\n",
       "      <td>57</td>\n",
       "      <td>1</td>\n",
       "      <td>3</td>\n",
       "      <td>130</td>\n",
       "      <td>131</td>\n",
       "      <td>0</td>\n",
       "      <td>0</td>\n",
       "      <td>115</td>\n",
       "      <td>1</td>\n",
       "      <td>1.2</td>\n",
       "      <td>1</td>\n",
       "      <td>1</td>\n",
       "    </tr>\n",
       "    <tr>\n",
       "      <th>916</th>\n",
       "      <td>57</td>\n",
       "      <td>0</td>\n",
       "      <td>1</td>\n",
       "      <td>130</td>\n",
       "      <td>236</td>\n",
       "      <td>0</td>\n",
       "      <td>2</td>\n",
       "      <td>174</td>\n",
       "      <td>0</td>\n",
       "      <td>0.0</td>\n",
       "      <td>1</td>\n",
       "      <td>1</td>\n",
       "    </tr>\n",
       "    <tr>\n",
       "      <th>917</th>\n",
       "      <td>38</td>\n",
       "      <td>1</td>\n",
       "      <td>2</td>\n",
       "      <td>138</td>\n",
       "      <td>175</td>\n",
       "      <td>0</td>\n",
       "      <td>0</td>\n",
       "      <td>173</td>\n",
       "      <td>0</td>\n",
       "      <td>0.0</td>\n",
       "      <td>0</td>\n",
       "      <td>0</td>\n",
       "    </tr>\n",
       "  </tbody>\n",
       "</table>\n",
       "<p>918 rows × 12 columns</p>\n",
       "</div>"
      ],
      "text/plain": [
       "     AGE  SEXE  TDT  PAR  CHOLESTEROL  GAJ  ECG  FCMAX  ANGINE  DEPRESSION  \\\n",
       "0     40     1    1  140          289    0    0    172       0         0.0   \n",
       "1     49     0    2  160          180    0    0    156       0         1.0   \n",
       "2     37     1    1  130          283    0    1     98       0         0.0   \n",
       "3     48     0    3  138          214    0    0    108       1         1.5   \n",
       "4     54     1    2  150          195    0    0    122       0         0.0   \n",
       "..   ...   ...  ...  ...          ...  ...  ...    ...     ...         ...   \n",
       "913   45     1    0  110          264    0    0    132       0         1.2   \n",
       "914   68     1    3  144          193    1    0    141       0         3.4   \n",
       "915   57     1    3  130          131    0    0    115       1         1.2   \n",
       "916   57     0    1  130          236    0    2    174       0         0.0   \n",
       "917   38     1    2  138          175    0    0    173       0         0.0   \n",
       "\n",
       "     PENTE  CŒUR  \n",
       "0        0     0  \n",
       "1        1     1  \n",
       "2        0     0  \n",
       "3        1     1  \n",
       "4        0     0  \n",
       "..     ...   ...  \n",
       "913      1     1  \n",
       "914      1     1  \n",
       "915      1     1  \n",
       "916      1     1  \n",
       "917      0     0  \n",
       "\n",
       "[918 rows x 12 columns]"
      ]
     },
     "execution_count": 9,
     "metadata": {},
     "output_type": "execute_result"
    }
   ],
   "source": [
    "df = encode_object(df)\n",
    "df"
   ]
  },
  {
   "cell_type": "code",
   "execution_count": 10,
   "id": "02ff9408",
   "metadata": {},
   "outputs": [],
   "source": [
    "from sklearn.preprocessing import OneHotEncoder, StandardScaler\n",
    "from sklearn.compose import ColumnTransformer "
   ]
  },
  {
   "cell_type": "code",
   "execution_count": 11,
   "id": "1d9b1625",
   "metadata": {},
   "outputs": [
    {
     "data": {
      "text/html": [
       "<div>\n",
       "<style scoped>\n",
       "    .dataframe tbody tr th:only-of-type {\n",
       "        vertical-align: middle;\n",
       "    }\n",
       "\n",
       "    .dataframe tbody tr th {\n",
       "        vertical-align: top;\n",
       "    }\n",
       "\n",
       "    .dataframe thead th {\n",
       "        text-align: right;\n",
       "    }\n",
       "</style>\n",
       "<table border=\"1\" class=\"dataframe\">\n",
       "  <thead>\n",
       "    <tr style=\"text-align: right;\">\n",
       "      <th></th>\n",
       "      <th>AGE</th>\n",
       "      <th>SEXE</th>\n",
       "      <th>TDT</th>\n",
       "      <th>PAR</th>\n",
       "      <th>CHOLESTEROL</th>\n",
       "      <th>GAJ</th>\n",
       "      <th>ECG</th>\n",
       "      <th>FCMAX</th>\n",
       "      <th>ANGINE</th>\n",
       "      <th>DEPRESSION</th>\n",
       "      <th>PENTE</th>\n",
       "      <th>CŒUR</th>\n",
       "    </tr>\n",
       "  </thead>\n",
       "  <tbody>\n",
       "    <tr>\n",
       "      <th>0</th>\n",
       "      <td>-1.433140</td>\n",
       "      <td>1</td>\n",
       "      <td>1</td>\n",
       "      <td>0.410909</td>\n",
       "      <td>0.825070</td>\n",
       "      <td>0</td>\n",
       "      <td>0</td>\n",
       "      <td>1.382928</td>\n",
       "      <td>0</td>\n",
       "      <td>-0.832432</td>\n",
       "      <td>0</td>\n",
       "      <td>0</td>\n",
       "    </tr>\n",
       "    <tr>\n",
       "      <th>1</th>\n",
       "      <td>-0.478484</td>\n",
       "      <td>0</td>\n",
       "      <td>2</td>\n",
       "      <td>1.491752</td>\n",
       "      <td>-0.171961</td>\n",
       "      <td>0</td>\n",
       "      <td>0</td>\n",
       "      <td>0.754157</td>\n",
       "      <td>0</td>\n",
       "      <td>0.105664</td>\n",
       "      <td>1</td>\n",
       "      <td>1</td>\n",
       "    </tr>\n",
       "    <tr>\n",
       "      <th>2</th>\n",
       "      <td>-1.751359</td>\n",
       "      <td>1</td>\n",
       "      <td>1</td>\n",
       "      <td>-0.129513</td>\n",
       "      <td>0.770188</td>\n",
       "      <td>0</td>\n",
       "      <td>1</td>\n",
       "      <td>-1.525138</td>\n",
       "      <td>0</td>\n",
       "      <td>-0.832432</td>\n",
       "      <td>0</td>\n",
       "      <td>0</td>\n",
       "    </tr>\n",
       "    <tr>\n",
       "      <th>3</th>\n",
       "      <td>-0.584556</td>\n",
       "      <td>0</td>\n",
       "      <td>3</td>\n",
       "      <td>0.302825</td>\n",
       "      <td>0.139040</td>\n",
       "      <td>0</td>\n",
       "      <td>0</td>\n",
       "      <td>-1.132156</td>\n",
       "      <td>1</td>\n",
       "      <td>0.574711</td>\n",
       "      <td>1</td>\n",
       "      <td>1</td>\n",
       "    </tr>\n",
       "    <tr>\n",
       "      <th>4</th>\n",
       "      <td>0.051881</td>\n",
       "      <td>1</td>\n",
       "      <td>2</td>\n",
       "      <td>0.951331</td>\n",
       "      <td>-0.034755</td>\n",
       "      <td>0</td>\n",
       "      <td>0</td>\n",
       "      <td>-0.581981</td>\n",
       "      <td>0</td>\n",
       "      <td>-0.832432</td>\n",
       "      <td>0</td>\n",
       "      <td>0</td>\n",
       "    </tr>\n",
       "    <tr>\n",
       "      <th>...</th>\n",
       "      <td>...</td>\n",
       "      <td>...</td>\n",
       "      <td>...</td>\n",
       "      <td>...</td>\n",
       "      <td>...</td>\n",
       "      <td>...</td>\n",
       "      <td>...</td>\n",
       "      <td>...</td>\n",
       "      <td>...</td>\n",
       "      <td>...</td>\n",
       "      <td>...</td>\n",
       "      <td>...</td>\n",
       "    </tr>\n",
       "    <tr>\n",
       "      <th>913</th>\n",
       "      <td>-0.902775</td>\n",
       "      <td>1</td>\n",
       "      <td>0</td>\n",
       "      <td>-1.210356</td>\n",
       "      <td>0.596393</td>\n",
       "      <td>0</td>\n",
       "      <td>0</td>\n",
       "      <td>-0.188999</td>\n",
       "      <td>0</td>\n",
       "      <td>0.293283</td>\n",
       "      <td>1</td>\n",
       "      <td>1</td>\n",
       "    </tr>\n",
       "    <tr>\n",
       "      <th>914</th>\n",
       "      <td>1.536902</td>\n",
       "      <td>1</td>\n",
       "      <td>3</td>\n",
       "      <td>0.627078</td>\n",
       "      <td>-0.053049</td>\n",
       "      <td>1</td>\n",
       "      <td>0</td>\n",
       "      <td>0.164684</td>\n",
       "      <td>0</td>\n",
       "      <td>2.357094</td>\n",
       "      <td>1</td>\n",
       "      <td>1</td>\n",
       "    </tr>\n",
       "    <tr>\n",
       "      <th>915</th>\n",
       "      <td>0.370100</td>\n",
       "      <td>1</td>\n",
       "      <td>3</td>\n",
       "      <td>-0.129513</td>\n",
       "      <td>-0.620168</td>\n",
       "      <td>0</td>\n",
       "      <td>0</td>\n",
       "      <td>-0.857069</td>\n",
       "      <td>1</td>\n",
       "      <td>0.293283</td>\n",
       "      <td>1</td>\n",
       "      <td>1</td>\n",
       "    </tr>\n",
       "    <tr>\n",
       "      <th>916</th>\n",
       "      <td>0.370100</td>\n",
       "      <td>0</td>\n",
       "      <td>1</td>\n",
       "      <td>-0.129513</td>\n",
       "      <td>0.340275</td>\n",
       "      <td>0</td>\n",
       "      <td>2</td>\n",
       "      <td>1.461525</td>\n",
       "      <td>0</td>\n",
       "      <td>-0.832432</td>\n",
       "      <td>1</td>\n",
       "      <td>1</td>\n",
       "    </tr>\n",
       "    <tr>\n",
       "      <th>917</th>\n",
       "      <td>-1.645286</td>\n",
       "      <td>1</td>\n",
       "      <td>2</td>\n",
       "      <td>0.302825</td>\n",
       "      <td>-0.217696</td>\n",
       "      <td>0</td>\n",
       "      <td>0</td>\n",
       "      <td>1.422226</td>\n",
       "      <td>0</td>\n",
       "      <td>-0.832432</td>\n",
       "      <td>0</td>\n",
       "      <td>0</td>\n",
       "    </tr>\n",
       "  </tbody>\n",
       "</table>\n",
       "<p>918 rows × 12 columns</p>\n",
       "</div>"
      ],
      "text/plain": [
       "          AGE  SEXE  TDT       PAR  CHOLESTEROL  GAJ  ECG     FCMAX  ANGINE  \\\n",
       "0   -1.433140     1    1  0.410909     0.825070    0    0  1.382928       0   \n",
       "1   -0.478484     0    2  1.491752    -0.171961    0    0  0.754157       0   \n",
       "2   -1.751359     1    1 -0.129513     0.770188    0    1 -1.525138       0   \n",
       "3   -0.584556     0    3  0.302825     0.139040    0    0 -1.132156       1   \n",
       "4    0.051881     1    2  0.951331    -0.034755    0    0 -0.581981       0   \n",
       "..        ...   ...  ...       ...          ...  ...  ...       ...     ...   \n",
       "913 -0.902775     1    0 -1.210356     0.596393    0    0 -0.188999       0   \n",
       "914  1.536902     1    3  0.627078    -0.053049    1    0  0.164684       0   \n",
       "915  0.370100     1    3 -0.129513    -0.620168    0    0 -0.857069       1   \n",
       "916  0.370100     0    1 -0.129513     0.340275    0    2  1.461525       0   \n",
       "917 -1.645286     1    2  0.302825    -0.217696    0    0  1.422226       0   \n",
       "\n",
       "     DEPRESSION  PENTE  CŒUR  \n",
       "0     -0.832432      0     0  \n",
       "1      0.105664      1     1  \n",
       "2     -0.832432      0     0  \n",
       "3      0.574711      1     1  \n",
       "4     -0.832432      0     0  \n",
       "..          ...    ...   ...  \n",
       "913    0.293283      1     1  \n",
       "914    2.357094      1     1  \n",
       "915    0.293283      1     1  \n",
       "916   -0.832432      1     1  \n",
       "917   -0.832432      0     0  \n",
       "\n",
       "[918 rows x 12 columns]"
      ]
     },
     "execution_count": 11,
     "metadata": {},
     "output_type": "execute_result"
    }
   ],
   "source": [
    "numeric_transformer = StandardScaler()\n",
    "df[num_cols] = numeric_transformer.fit_transform(df[num_cols])\n",
    "df"
   ]
  },
  {
   "cell_type": "code",
   "execution_count": 12,
   "id": "16bb6066",
   "metadata": {},
   "outputs": [],
   "source": [
    "x = df.drop('CŒUR', axis=1)\n",
    "y = df['CŒUR']"
   ]
  },
  {
   "cell_type": "markdown",
   "id": "5c936312",
   "metadata": {},
   "source": [
    "## Prémier modèle"
   ]
  },
  {
   "cell_type": "code",
   "execution_count": 13,
   "id": "b64b39f2",
   "metadata": {},
   "outputs": [],
   "source": [
    "from sklearn.linear_model import LogisticRegression\n",
    "from sklearn.model_selection import train_test_split\n",
    "from sklearn.metrics import classification_report, confusion_matrix"
   ]
  },
  {
   "cell_type": "code",
   "execution_count": 14,
   "id": "a72a3d26",
   "metadata": {},
   "outputs": [],
   "source": [
    "x_train, x_test, y_train, y_test = train_test_split(x,y,test_size=0.2)"
   ]
  },
  {
   "cell_type": "code",
   "execution_count": 15,
   "id": "7996ce0a",
   "metadata": {},
   "outputs": [
    {
     "data": {
      "text/plain": [
       "LogisticRegression()"
      ]
     },
     "execution_count": 15,
     "metadata": {},
     "output_type": "execute_result"
    }
   ],
   "source": [
    "logistic = LogisticRegression()\n",
    "logistic.fit(x_train, y_train)"
   ]
  },
  {
   "cell_type": "code",
   "execution_count": 16,
   "id": "2bbe8d07",
   "metadata": {},
   "outputs": [
    {
     "data": {
      "text/plain": [
       "array([[ 0.06249499,  1.07487103,  0.65774456,  0.09584136, -0.41865949,\n",
       "         0.80185526,  0.08484822, -0.24407061,  0.99250177,  0.36439144,\n",
       "         1.55935971]])"
      ]
     },
     "execution_count": 16,
     "metadata": {},
     "output_type": "execute_result"
    }
   ],
   "source": [
    "# on peut afficher les coefficients du modèle :\n",
    "logistic.coef_"
   ]
  },
  {
   "cell_type": "markdown",
   "id": "3da148af",
   "metadata": {},
   "source": [
    "### Odds Ratios"
   ]
  },
  {
   "cell_type": "code",
   "execution_count": 42,
   "id": "0c20d319",
   "metadata": {},
   "outputs": [
    {
     "data": {
      "text/html": [
       "<div>\n",
       "<style scoped>\n",
       "    .dataframe tbody tr th:only-of-type {\n",
       "        vertical-align: middle;\n",
       "    }\n",
       "\n",
       "    .dataframe tbody tr th {\n",
       "        vertical-align: top;\n",
       "    }\n",
       "\n",
       "    .dataframe thead th {\n",
       "        text-align: right;\n",
       "    }\n",
       "</style>\n",
       "<table border=\"1\" class=\"dataframe\">\n",
       "  <thead>\n",
       "    <tr style=\"text-align: right;\">\n",
       "      <th></th>\n",
       "      <th>AGE</th>\n",
       "      <th>SEXE</th>\n",
       "      <th>TDT</th>\n",
       "      <th>PAR</th>\n",
       "      <th>CHOLESTEROL</th>\n",
       "      <th>GAJ</th>\n",
       "      <th>ECG</th>\n",
       "      <th>FCMAX</th>\n",
       "      <th>ANGINE</th>\n",
       "      <th>DEPRESSION</th>\n",
       "      <th>PENTE</th>\n",
       "    </tr>\n",
       "  </thead>\n",
       "  <tbody>\n",
       "    <tr>\n",
       "      <th>0</th>\n",
       "      <td>1.064489</td>\n",
       "      <td>2.929615</td>\n",
       "      <td>1.930433</td>\n",
       "      <td>1.100584</td>\n",
       "      <td>0.657928</td>\n",
       "      <td>2.229674</td>\n",
       "      <td>1.088552</td>\n",
       "      <td>0.783432</td>\n",
       "      <td>2.697976</td>\n",
       "      <td>1.439638</td>\n",
       "      <td>4.755775</td>\n",
       "    </tr>\n",
       "  </tbody>\n",
       "</table>\n",
       "</div>"
      ],
      "text/plain": [
       "        AGE      SEXE       TDT       PAR  CHOLESTEROL       GAJ       ECG  \\\n",
       "0  1.064489  2.929615  1.930433  1.100584     0.657928  2.229674  1.088552   \n",
       "\n",
       "      FCMAX    ANGINE  DEPRESSION     PENTE  \n",
       "0  0.783432  2.697976    1.439638  4.755775  "
      ]
     },
     "execution_count": 42,
     "metadata": {},
     "output_type": "execute_result"
    }
   ],
   "source": [
    "odds_ratio = np.exp(logistic.coef_)\n",
    "x_col = pd.DataFrame(odds_ratio, columns=df.columns[:-1])\n",
    "x_col"
   ]
  },
  {
   "cell_type": "code",
   "execution_count": 35,
   "id": "0b410d0d",
   "metadata": {},
   "outputs": [
    {
     "name": "stdout",
     "output_type": "stream",
     "text": [
      "Nombre optimal de caractéristiques: 7\n"
     ]
    }
   ],
   "source": [
    "from sklearn.feature_selection import RFECV\n",
    "selector = RFECV(estimator=logistic, \n",
    "                 cv=10, \n",
    "                 scoring='neg_mean_squared_error')\n",
    "selector.fit(x_train, y_train)\n",
    "print(\"Nombre optimal de caractéristiques: %d\" \n",
    "      % selector.n_features_)"
   ]
  },
  {
   "cell_type": "code",
   "execution_count": 49,
   "id": "a974bbb3",
   "metadata": {},
   "outputs": [
    {
     "name": "stdout",
     "output_type": "stream",
     "text": [
      "Variables les plus importantes pour la régression logistique\n"
     ]
    },
    {
     "data": {
      "text/plain": [
       "Index(['SEXE', 'TDT', 'CHOLESTEROL', 'GAJ', 'ANGINE', 'DEPRESSION', 'PENTE'], dtype='object')"
      ]
     },
     "execution_count": 49,
     "metadata": {},
     "output_type": "execute_result"
    }
   ],
   "source": [
    "print(\"Variables les plus importantes pour la régression logistique\")\n",
    "feature_inportants = x_col.columns[selector.support_]\n",
    "feature_inportants"
   ]
  },
  {
   "cell_type": "code",
   "execution_count": 17,
   "id": "ed39fb3f",
   "metadata": {},
   "outputs": [],
   "source": [
    "# on prédit grâce à ce modèle\n",
    "y_predict = logistic.predict(x_test)"
   ]
  },
  {
   "cell_type": "code",
   "execution_count": 23,
   "id": "6ba895e9",
   "metadata": {},
   "outputs": [
    {
     "name": "stdout",
     "output_type": "stream",
     "text": [
      "Rapport pour le modèle Logistique :\n",
      "              precision    recall  f1-score   support\n",
      "\n",
      "    Abscence       0.87      0.89      0.88        94\n",
      "    Présence       0.89      0.86      0.87        90\n",
      "\n",
      "    accuracy                           0.88       184\n",
      "   macro avg       0.88      0.87      0.87       184\n",
      "weighted avg       0.88      0.88      0.87       184\n",
      "\n"
     ]
    },
    {
     "data": {
      "text/html": [
       "<div>\n",
       "<style scoped>\n",
       "    .dataframe tbody tr th:only-of-type {\n",
       "        vertical-align: middle;\n",
       "    }\n",
       "\n",
       "    .dataframe tbody tr th {\n",
       "        vertical-align: top;\n",
       "    }\n",
       "\n",
       "    .dataframe thead th {\n",
       "        text-align: right;\n",
       "    }\n",
       "</style>\n",
       "<table border=\"1\" class=\"dataframe\">\n",
       "  <thead>\n",
       "    <tr style=\"text-align: right;\">\n",
       "      <th></th>\n",
       "      <th>0</th>\n",
       "      <th>1</th>\n",
       "    </tr>\n",
       "  </thead>\n",
       "  <tbody>\n",
       "    <tr>\n",
       "      <th>0</th>\n",
       "      <td>84</td>\n",
       "      <td>10</td>\n",
       "    </tr>\n",
       "    <tr>\n",
       "      <th>1</th>\n",
       "      <td>13</td>\n",
       "      <td>77</td>\n",
       "    </tr>\n",
       "  </tbody>\n",
       "</table>\n",
       "</div>"
      ],
      "text/plain": [
       "    0   1\n",
       "0  84  10\n",
       "1  13  77"
      ]
     },
     "execution_count": 23,
     "metadata": {},
     "output_type": "execute_result"
    }
   ],
   "source": [
    "print(\"Rapport pour le modèle Logistique :\",\n",
    "      classification_report(y_test, y_predict, target_names=['Abscence', 'Présence']) ,sep=\"\\n\")\n",
    "matrix = confusion_matrix(y_test, y_predict)\n",
    "pd.DataFrame(matrix)"
   ]
  },
  {
   "cell_type": "markdown",
   "id": "ec245648",
   "metadata": {},
   "source": [
    "Ici nous allons utiliser la précision comme métrique.\n",
    "\n",
    "La précision étant la probabilité que le modèle prédise un malade quand celui-ci est malade.\n",
    "\n",
    "Vu que les classe ne sont pas désiquilibrées on aurait pu utilisé accuracy comme métriques"
   ]
  },
  {
   "cell_type": "code",
   "execution_count": 25,
   "id": "6dfcbe88",
   "metadata": {},
   "outputs": [
    {
     "data": {
      "text/plain": [
       "<matplotlib.legend.Legend at 0x1fee68458b0>"
      ]
     },
     "execution_count": 25,
     "metadata": {},
     "output_type": "execute_result"
    },
    {
     "data": {
      "image/png": "[encoded data removed]",
      "text/plain": [
       "<Figure size 432x288 with 1 Axes>"
      ]
     },
     "metadata": {
      "needs_background": "light"
     },
     "output_type": "display_data"
    }
   ],
   "source": [
    "import matplotlib.pyplot as plt\n",
    "%matplotlib inline\n",
    "from sklearn.metrics import roc_curve\n",
    "\n",
    "# on extrait les probabilités d'appartenance\n",
    "proba_ped = logistic.predict_proba(x_test)[:,1]\n",
    "\n",
    "# cas du modèle RF\n",
    "fpr, tpr, _ = roc_curve(y_test, proba_ped)\n",
    "plt.plot(fpr,tpr,\"b-.\", label=\"Logistique\")\n",
    "\n",
    "# modèle aléatoire\n",
    "plt.plot([0, 1], [0, 1],\"r-\", label=\"aléatoire\", )\n",
    "\n",
    "# modèle parfait\n",
    "plt.plot([0,0, 1], [0,1, 1], 'b--', label=\"parfait\")\n",
    "\n",
    "plt.xlim([-0.01, 1.0])\n",
    "plt.ylim([0.0, 1.05])\n",
    "plt.legend()"
   ]
  },
  {
   "cell_type": "code",
   "execution_count": 26,
   "id": "ed5895b4",
   "metadata": {},
   "outputs": [
    {
     "name": "stdout",
     "output_type": "stream",
     "text": [
      "Aire sous la courbe ROC pour le modèle logistique : 0.9367612293144209\n"
     ]
    }
   ],
   "source": [
    "from sklearn.metrics import roc_auc_score\n",
    "auc_modele = roc_auc_score(y_test, logistic.predict_proba(x_test)[:,1])\n",
    "\n",
    "print(\"Aire sous la courbe ROC pour le modèle logistique :\" , auc_modele)"
   ]
  },
  {
   "cell_type": "markdown",
   "id": "62b5dbb1",
   "metadata": {},
   "source": [
    "La courbe nous nous montre la qualité de notre modèle qui se rapproche du modèle parfait"
   ]
  },
  {
   "cell_type": "markdown",
   "id": "e09d771d",
   "metadata": {},
   "source": [
    "## Second modèle utilisant les sept variables retenues"
   ]
  },
  {
   "cell_type": "code",
   "execution_count": 50,
   "id": "f22f32a7",
   "metadata": {},
   "outputs": [],
   "source": [
    "x = df[feature_inportants]"
   ]
  },
  {
   "cell_type": "code",
   "execution_count": 51,
   "id": "bd122ebf",
   "metadata": {},
   "outputs": [],
   "source": [
    "x_train, x_test, y_train, y_test = train_test_split(x,y,test_size=0.2)"
   ]
  },
  {
   "cell_type": "code",
   "execution_count": 52,
   "id": "3f358122",
   "metadata": {},
   "outputs": [
    {
     "data": {
      "text/plain": [
       "LogisticRegression()"
      ]
     },
     "execution_count": 52,
     "metadata": {},
     "output_type": "execute_result"
    }
   ],
   "source": [
    "logistic = LogisticRegression()\n",
    "logistic.fit(x_train, y_train)"
   ]
  },
  {
   "cell_type": "markdown",
   "id": "be1c53be",
   "metadata": {},
   "source": [
    "### Odds Ratios"
   ]
  },
  {
   "cell_type": "code",
   "execution_count": 59,
   "id": "6d4369b0",
   "metadata": {},
   "outputs": [
    {
     "data": {
      "text/html": [
       "<div>\n",
       "<style scoped>\n",
       "    .dataframe tbody tr th:only-of-type {\n",
       "        vertical-align: middle;\n",
       "    }\n",
       "\n",
       "    .dataframe tbody tr th {\n",
       "        vertical-align: top;\n",
       "    }\n",
       "\n",
       "    .dataframe thead th {\n",
       "        text-align: right;\n",
       "    }\n",
       "</style>\n",
       "<table border=\"1\" class=\"dataframe\">\n",
       "  <thead>\n",
       "    <tr style=\"text-align: right;\">\n",
       "      <th></th>\n",
       "      <th>SEXE</th>\n",
       "      <th>TDT</th>\n",
       "      <th>CHOLESTEROL</th>\n",
       "      <th>GAJ</th>\n",
       "      <th>ANGINE</th>\n",
       "      <th>DEPRESSION</th>\n",
       "      <th>PENTE</th>\n",
       "    </tr>\n",
       "  </thead>\n",
       "  <tbody>\n",
       "    <tr>\n",
       "      <th>0</th>\n",
       "      <td>4.07009</td>\n",
       "      <td>2.076898</td>\n",
       "      <td>0.75562</td>\n",
       "      <td>2.555613</td>\n",
       "      <td>2.584334</td>\n",
       "      <td>1.447787</td>\n",
       "      <td>5.94143</td>\n",
       "    </tr>\n",
       "  </tbody>\n",
       "</table>\n",
       "</div>"
      ],
      "text/plain": [
       "      SEXE       TDT  CHOLESTEROL       GAJ    ANGINE  DEPRESSION    PENTE\n",
       "0  4.07009  2.076898      0.75562  2.555613  2.584334    1.447787  5.94143"
      ]
     },
     "execution_count": 59,
     "metadata": {},
     "output_type": "execute_result"
    }
   ],
   "source": [
    "odds_ratio = np.exp(logistic.coef_)\n",
    "x_col = pd.DataFrame(odds_ratio, columns=x.columns)\n",
    "x_col"
   ]
  },
  {
   "cell_type": "code",
   "execution_count": 53,
   "id": "63a31857",
   "metadata": {},
   "outputs": [],
   "source": [
    "# on prédit grâce à ce modèle\n",
    "y_predict = logistic.predict(x_test)"
   ]
  },
  {
   "cell_type": "code",
   "execution_count": 54,
   "id": "a506dff4",
   "metadata": {},
   "outputs": [
    {
     "name": "stdout",
     "output_type": "stream",
     "text": [
      "Rapport pour le modèle Logistique :\n",
      "              precision    recall  f1-score   support\n",
      "\n",
      "    Abscence       0.88      0.83      0.86        96\n",
      "    Présence       0.83      0.88      0.85        88\n",
      "\n",
      "    accuracy                           0.85       184\n",
      "   macro avg       0.85      0.85      0.85       184\n",
      "weighted avg       0.85      0.85      0.85       184\n",
      "\n"
     ]
    },
    {
     "data": {
      "text/html": [
       "<div>\n",
       "<style scoped>\n",
       "    .dataframe tbody tr th:only-of-type {\n",
       "        vertical-align: middle;\n",
       "    }\n",
       "\n",
       "    .dataframe tbody tr th {\n",
       "        vertical-align: top;\n",
       "    }\n",
       "\n",
       "    .dataframe thead th {\n",
       "        text-align: right;\n",
       "    }\n",
       "</style>\n",
       "<table border=\"1\" class=\"dataframe\">\n",
       "  <thead>\n",
       "    <tr style=\"text-align: right;\">\n",
       "      <th></th>\n",
       "      <th>0</th>\n",
       "      <th>1</th>\n",
       "    </tr>\n",
       "  </thead>\n",
       "  <tbody>\n",
       "    <tr>\n",
       "      <th>0</th>\n",
       "      <td>80</td>\n",
       "      <td>16</td>\n",
       "    </tr>\n",
       "    <tr>\n",
       "      <th>1</th>\n",
       "      <td>11</td>\n",
       "      <td>77</td>\n",
       "    </tr>\n",
       "  </tbody>\n",
       "</table>\n",
       "</div>"
      ],
      "text/plain": [
       "    0   1\n",
       "0  80  16\n",
       "1  11  77"
      ]
     },
     "execution_count": 54,
     "metadata": {},
     "output_type": "execute_result"
    }
   ],
   "source": [
    "print(\"Rapport pour le modèle Logistique :\",\n",
    "      classification_report(y_test, y_predict, target_names=['Abscence', 'Présence']) ,sep=\"\\n\")\n",
    "matrix = confusion_matrix(y_test, y_predict)\n",
    "pd.DataFrame(matrix)"
   ]
  },
  {
   "cell_type": "code",
   "execution_count": 55,
   "id": "e56ac4f0",
   "metadata": {},
   "outputs": [
    {
     "data": {
      "text/plain": [
       "<matplotlib.legend.Legend at 0x1feed609d60>"
      ]
     },
     "execution_count": 55,
     "metadata": {},
     "output_type": "execute_result"
    },
    {
     "data": {
      "image/png": "[encoded data removed]",
      "text/plain": [
       "<Figure size 432x288 with 1 Axes>"
      ]
     },
     "metadata": {
      "needs_background": "light"
     },
     "output_type": "display_data"
    }
   ],
   "source": [
    "import matplotlib.pyplot as plt\n",
    "%matplotlib inline\n",
    "from sklearn.metrics import roc_curve\n",
    "\n",
    "# on extrait les probabilités d'appartenance\n",
    "proba_ped = logistic.predict_proba(x_test)[:,1]\n",
    "\n",
    "# cas du modèle RF\n",
    "fpr, tpr, _ = roc_curve(y_test, proba_ped)\n",
    "plt.plot(fpr,tpr,\"b-.\", label=\"Logistique\")\n",
    "\n",
    "# modèle aléatoire\n",
    "plt.plot([0, 1], [0, 1],\"r-\", label=\"aléatoire\", )\n",
    "\n",
    "# modèle parfait\n",
    "plt.plot([0,0, 1], [0,1, 1], 'b--', label=\"parfait\")\n",
    "\n",
    "plt.xlim([-0.01, 1.0])\n",
    "plt.ylim([0.0, 1.05])\n",
    "plt.legend()"
   ]
  },
  {
   "cell_type": "code",
   "execution_count": 56,
   "id": "e41da56d",
   "metadata": {},
   "outputs": [
    {
     "name": "stdout",
     "output_type": "stream",
     "text": [
      "Aire sous la courbe ROC pour le modèle logistique : 0.9287405303030303\n"
     ]
    }
   ],
   "source": [
    "from sklearn.metrics import roc_auc_score\n",
    "auc_modele = roc_auc_score(y_test, logistic.predict_proba(x_test)[:,1])\n",
    "\n",
    "print(\"Aire sous la courbe ROC pour le modèle logistique :\" , auc_modele)"
   ]
  },
  {
   "cell_type": "code",
   "execution_count": null,
   "id": "21c45c09",
   "metadata": {},
   "outputs": [],
   "source": []
  }
 ],
 "metadata": {
  "kernelspec": {
   "display_name": "Python 3",
   "language": "python",
   "name": "python3"
  },
  "language_info": {
   "codemirror_mode": {
    "name": "ipython",
    "version": 3
   },
   "file_extension": ".py",
   "mimetype": "text/x-python",
   "name": "python",
   "nbconvert_exporter": "python",
   "pygments_lexer": "ipython3",
   "version": "3.8.8"
  }
 },
 "nbformat": 4,
 "nbformat_minor": 5
}
