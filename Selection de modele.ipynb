{
 "cells": [
  {
   "cell_type": "code",
   "execution_count": 1,
   "id": "940cf1bf",
   "metadata": {},
   "outputs": [],
   "source": [
    "import numpy as np\n",
    "import pandas as pd\n",
    "import matplotlib.pyplot as plt\n",
    "from sklearn.model_selection import train_test_split"
   ]
  },
  {
   "cell_type": "code",
   "execution_count": 2,
   "id": "45b14773",
   "metadata": {},
   "outputs": [
    {
     "data": {
      "text/html": [
       "<div>\n",
       "<style scoped>\n",
       "    .dataframe tbody tr th:only-of-type {\n",
       "        vertical-align: middle;\n",
       "    }\n",
       "\n",
       "    .dataframe tbody tr th {\n",
       "        vertical-align: top;\n",
       "    }\n",
       "\n",
       "    .dataframe thead th {\n",
       "        text-align: right;\n",
       "    }\n",
       "</style>\n",
       "<table border=\"1\" class=\"dataframe\">\n",
       "  <thead>\n",
       "    <tr style=\"text-align: right;\">\n",
       "      <th></th>\n",
       "      <th>AGE</th>\n",
       "      <th>SEXE</th>\n",
       "      <th>TDT</th>\n",
       "      <th>PAR</th>\n",
       "      <th>CHOLESTEROL</th>\n",
       "      <th>GAJ</th>\n",
       "      <th>ECG</th>\n",
       "      <th>FCMAX</th>\n",
       "      <th>ANGINE</th>\n",
       "      <th>DEPRESSION</th>\n",
       "      <th>PENTE</th>\n",
       "      <th>CŒUR</th>\n",
       "    </tr>\n",
       "  </thead>\n",
       "  <tbody>\n",
       "    <tr>\n",
       "      <th>0</th>\n",
       "      <td>-1.433140</td>\n",
       "      <td>1</td>\n",
       "      <td>1</td>\n",
       "      <td>0.410909</td>\n",
       "      <td>0.825070</td>\n",
       "      <td>0</td>\n",
       "      <td>0</td>\n",
       "      <td>1.382928</td>\n",
       "      <td>0</td>\n",
       "      <td>-0.832432</td>\n",
       "      <td>0</td>\n",
       "      <td>0</td>\n",
       "    </tr>\n",
       "    <tr>\n",
       "      <th>1</th>\n",
       "      <td>-0.478484</td>\n",
       "      <td>0</td>\n",
       "      <td>2</td>\n",
       "      <td>1.491752</td>\n",
       "      <td>-0.171961</td>\n",
       "      <td>0</td>\n",
       "      <td>0</td>\n",
       "      <td>0.754157</td>\n",
       "      <td>0</td>\n",
       "      <td>0.105664</td>\n",
       "      <td>1</td>\n",
       "      <td>1</td>\n",
       "    </tr>\n",
       "    <tr>\n",
       "      <th>2</th>\n",
       "      <td>-1.751359</td>\n",
       "      <td>1</td>\n",
       "      <td>1</td>\n",
       "      <td>-0.129513</td>\n",
       "      <td>0.770188</td>\n",
       "      <td>0</td>\n",
       "      <td>1</td>\n",
       "      <td>-1.525138</td>\n",
       "      <td>0</td>\n",
       "      <td>-0.832432</td>\n",
       "      <td>0</td>\n",
       "      <td>0</td>\n",
       "    </tr>\n",
       "    <tr>\n",
       "      <th>3</th>\n",
       "      <td>-0.584556</td>\n",
       "      <td>0</td>\n",
       "      <td>3</td>\n",
       "      <td>0.302825</td>\n",
       "      <td>0.139040</td>\n",
       "      <td>0</td>\n",
       "      <td>0</td>\n",
       "      <td>-1.132156</td>\n",
       "      <td>1</td>\n",
       "      <td>0.574711</td>\n",
       "      <td>1</td>\n",
       "      <td>1</td>\n",
       "    </tr>\n",
       "    <tr>\n",
       "      <th>4</th>\n",
       "      <td>0.051881</td>\n",
       "      <td>1</td>\n",
       "      <td>2</td>\n",
       "      <td>0.951331</td>\n",
       "      <td>-0.034755</td>\n",
       "      <td>0</td>\n",
       "      <td>0</td>\n",
       "      <td>-0.581981</td>\n",
       "      <td>0</td>\n",
       "      <td>-0.832432</td>\n",
       "      <td>0</td>\n",
       "      <td>0</td>\n",
       "    </tr>\n",
       "    <tr>\n",
       "      <th>...</th>\n",
       "      <td>...</td>\n",
       "      <td>...</td>\n",
       "      <td>...</td>\n",
       "      <td>...</td>\n",
       "      <td>...</td>\n",
       "      <td>...</td>\n",
       "      <td>...</td>\n",
       "      <td>...</td>\n",
       "      <td>...</td>\n",
       "      <td>...</td>\n",
       "      <td>...</td>\n",
       "      <td>...</td>\n",
       "    </tr>\n",
       "    <tr>\n",
       "      <th>913</th>\n",
       "      <td>-0.902775</td>\n",
       "      <td>1</td>\n",
       "      <td>0</td>\n",
       "      <td>-1.210356</td>\n",
       "      <td>0.596393</td>\n",
       "      <td>0</td>\n",
       "      <td>0</td>\n",
       "      <td>-0.188999</td>\n",
       "      <td>0</td>\n",
       "      <td>0.293283</td>\n",
       "      <td>1</td>\n",
       "      <td>1</td>\n",
       "    </tr>\n",
       "    <tr>\n",
       "      <th>914</th>\n",
       "      <td>1.536902</td>\n",
       "      <td>1</td>\n",
       "      <td>3</td>\n",
       "      <td>0.627078</td>\n",
       "      <td>-0.053049</td>\n",
       "      <td>1</td>\n",
       "      <td>0</td>\n",
       "      <td>0.164684</td>\n",
       "      <td>0</td>\n",
       "      <td>2.357094</td>\n",
       "      <td>1</td>\n",
       "      <td>1</td>\n",
       "    </tr>\n",
       "    <tr>\n",
       "      <th>915</th>\n",
       "      <td>0.370100</td>\n",
       "      <td>1</td>\n",
       "      <td>3</td>\n",
       "      <td>-0.129513</td>\n",
       "      <td>-0.620168</td>\n",
       "      <td>0</td>\n",
       "      <td>0</td>\n",
       "      <td>-0.857069</td>\n",
       "      <td>1</td>\n",
       "      <td>0.293283</td>\n",
       "      <td>1</td>\n",
       "      <td>1</td>\n",
       "    </tr>\n",
       "    <tr>\n",
       "      <th>916</th>\n",
       "      <td>0.370100</td>\n",
       "      <td>0</td>\n",
       "      <td>1</td>\n",
       "      <td>-0.129513</td>\n",
       "      <td>0.340275</td>\n",
       "      <td>0</td>\n",
       "      <td>2</td>\n",
       "      <td>1.461525</td>\n",
       "      <td>0</td>\n",
       "      <td>-0.832432</td>\n",
       "      <td>1</td>\n",
       "      <td>1</td>\n",
       "    </tr>\n",
       "    <tr>\n",
       "      <th>917</th>\n",
       "      <td>-1.645286</td>\n",
       "      <td>1</td>\n",
       "      <td>2</td>\n",
       "      <td>0.302825</td>\n",
       "      <td>-0.217696</td>\n",
       "      <td>0</td>\n",
       "      <td>0</td>\n",
       "      <td>1.422226</td>\n",
       "      <td>0</td>\n",
       "      <td>-0.832432</td>\n",
       "      <td>0</td>\n",
       "      <td>0</td>\n",
       "    </tr>\n",
       "  </tbody>\n",
       "</table>\n",
       "<p>918 rows × 12 columns</p>\n",
       "</div>"
      ],
      "text/plain": [
       "          AGE  SEXE  TDT       PAR  CHOLESTEROL  GAJ  ECG     FCMAX  ANGINE  \\\n",
       "0   -1.433140     1    1  0.410909     0.825070    0    0  1.382928       0   \n",
       "1   -0.478484     0    2  1.491752    -0.171961    0    0  0.754157       0   \n",
       "2   -1.751359     1    1 -0.129513     0.770188    0    1 -1.525138       0   \n",
       "3   -0.584556     0    3  0.302825     0.139040    0    0 -1.132156       1   \n",
       "4    0.051881     1    2  0.951331    -0.034755    0    0 -0.581981       0   \n",
       "..        ...   ...  ...       ...          ...  ...  ...       ...     ...   \n",
       "913 -0.902775     1    0 -1.210356     0.596393    0    0 -0.188999       0   \n",
       "914  1.536902     1    3  0.627078    -0.053049    1    0  0.164684       0   \n",
       "915  0.370100     1    3 -0.129513    -0.620168    0    0 -0.857069       1   \n",
       "916  0.370100     0    1 -0.129513     0.340275    0    2  1.461525       0   \n",
       "917 -1.645286     1    2  0.302825    -0.217696    0    0  1.422226       0   \n",
       "\n",
       "     DEPRESSION  PENTE  CŒUR  \n",
       "0     -0.832432      0     0  \n",
       "1      0.105664      1     1  \n",
       "2     -0.832432      0     0  \n",
       "3      0.574711      1     1  \n",
       "4     -0.832432      0     0  \n",
       "..          ...    ...   ...  \n",
       "913    0.293283      1     1  \n",
       "914    2.357094      1     1  \n",
       "915    0.293283      1     1  \n",
       "916   -0.832432      1     1  \n",
       "917   -0.832432      0     0  \n",
       "\n",
       "[918 rows x 12 columns]"
      ]
     },
     "execution_count": 2,
     "metadata": {},
     "output_type": "execute_result"
    }
   ],
   "source": [
    "df = pd.read_csv(\"data/df_norm.csv\")\n",
    "df"
   ]
  },
  {
   "cell_type": "code",
   "execution_count": 3,
   "id": "805d0adf",
   "metadata": {},
   "outputs": [],
   "source": [
    "x = df.drop('CŒUR', axis=1)\n",
    "y = df['CŒUR']"
   ]
  },
  {
   "cell_type": "code",
   "execution_count": 4,
   "id": "e59da871",
   "metadata": {},
   "outputs": [],
   "source": [
    "x_train, x_test, y_train, y_test = train_test_split(x,y,test_size=0.2)"
   ]
  },
  {
   "cell_type": "code",
   "execution_count": 5,
   "id": "3fd2b10e",
   "metadata": {},
   "outputs": [],
   "source": [
    "from sklearn.metrics import f1_score, confusion_matrix, classification_report\n",
    "from sklearn.model_selection import learning_curve, GridSearchCV\n",
    "from sklearn.svm import SVC\n",
    "from sklearn.neighbors import KNeighborsClassifier\n",
    "from sklearn.ensemble import RandomForestClassifier\n",
    "from sklearn.linear_model import LogisticRegression"
   ]
  },
  {
   "cell_type": "code",
   "execution_count": 6,
   "id": "f12ba08d",
   "metadata": {},
   "outputs": [],
   "source": [
    "modele_rf = RandomForestClassifier()\n",
    "modele_knn = KNeighborsClassifier()\n",
    "modele_svc = SVC()\n",
    "# modele_logistic = LogisticRegression()"
   ]
  },
  {
   "cell_type": "code",
   "execution_count": 29,
   "id": "b7f779c4",
   "metadata": {},
   "outputs": [],
   "source": [
    "# %%timeit\n",
    "\n",
    "# construction des dictionnaires d’hyperparamètres\n",
    "dico_param_rf = {\"n_estimators\":[10,100,1000],\"max_depth\":[5,7,9]}\n",
    "dico_param_knn = {\"n_neighbors\":[2,5,10,50],\"weights\":['uniform','distance']}\n",
    "dico_param_svc = {'C': [0.1, 1, 10, 100, 1000], 'gamma': [1, 0.1, 0.01, 0.001, 0.0001], \"kernel\":['linear', 'poly', 'rbf']}\n",
    "dico_param_logistic = {\"penalty\":['l1','l2', 'elasticnet']}\n",
    "\n",
    "modele_grid_rf = GridSearchCV(modele_rf, dico_param_rf, n_jobs=-1,\n",
    "                            scoring=\"accuracy\", cv=5)\n",
    "\n",
    "modele_grid_knn = GridSearchCV(modele_knn, dico_param_knn, n_jobs=-1,\n",
    "                             scoring=\"accuracy\", cv=5)\n",
    "\n",
    "dico_param_svc = GridSearchCV(modele_svc, dico_param_svc, n_jobs=-1,\n",
    "                             scoring=\"accuracy\", cv=5)\n",
    "\n",
    "# modele_grid_logistic=GridSearchCV(modele_logistic, modele_logistic, n_jobs=-1,\n",
    "#                              scoring=\"accuracy\",cv=5)"
   ]
  },
  {
   "cell_type": "code",
   "execution_count": 30,
   "id": "b1f8e088",
   "metadata": {},
   "outputs": [],
   "source": [
    "# for modele_name, modele in modeles.items():\n",
    "#     mod = modele.fit(x_train,y_train)\n",
    "#     print(f\"{modele_name}\\n{mod.best_estimator_}\")"
   ]
  },
  {
   "cell_type": "code",
   "execution_count": 31,
   "id": "5a406aa9",
   "metadata": {},
   "outputs": [
    {
     "data": {
      "text/plain": [
       "KNeighborsClassifier(n_neighbors=50, weights='distance')"
      ]
     },
     "execution_count": 31,
     "metadata": {},
     "output_type": "execute_result"
    }
   ],
   "source": [
    "modele_knn = modele_grid_knn.fit(x_train,y_train)\n",
    "modele_knn.best_estimator_"
   ]
  },
  {
   "cell_type": "code",
   "execution_count": 32,
   "id": "fa4af653",
   "metadata": {},
   "outputs": [
    {
     "data": {
      "text/plain": [
       "RandomForestClassifier(max_depth=9)"
      ]
     },
     "execution_count": 32,
     "metadata": {},
     "output_type": "execute_result"
    }
   ],
   "source": [
    "modele_rf = modele_grid_rf.fit(x_train,y_train)\n",
    "modele_rf.best_estimator_"
   ]
  },
  {
   "cell_type": "code",
   "execution_count": 33,
   "id": "47374c29",
   "metadata": {},
   "outputs": [
    {
     "data": {
      "text/plain": [
       "SVC(C=10, gamma=0.01)"
      ]
     },
     "execution_count": 33,
     "metadata": {},
     "output_type": "execute_result"
    }
   ],
   "source": [
    "modele_svc = dico_param_svc.fit(x_train,y_train)\n",
    "modele_svc.best_estimator_"
   ]
  },
  {
   "cell_type": "code",
   "execution_count": 34,
   "id": "c470bbe6",
   "metadata": {},
   "outputs": [],
   "source": [
    "modele_rf = RandomForestClassifier(max_depth=9)\n",
    "modele_knn = KNeighborsClassifier(n_neighbors=50, weights='distance')\n",
    "modele_svc = SVC(C=10, gamma=0.01)"
   ]
  },
  {
   "cell_type": "code",
   "execution_count": 35,
   "id": "3420fbb6",
   "metadata": {},
   "outputs": [],
   "source": [
    "modeles = {\n",
    "    'KNN': modele_knn,\n",
    "    'RF': modele_grid_rf,\n",
    "    'SVC': dico_param_svc\n",
    "}"
   ]
  },
  {
   "cell_type": "code",
   "execution_count": 36,
   "id": "2d4fdea7",
   "metadata": {},
   "outputs": [],
   "source": [
    "def evaluation(model):\n",
    "    \n",
    "    model.fit(x_train, y_train)\n",
    "    ypred = model.predict(x_test)\n",
    "    \n",
    "    print(confusion_matrix(y_test, ypred))\n",
    "    print(classification_report(y_test, ypred, target_names=['Abscence', 'Présence']))\n",
    "    \n",
    "    N, train_score, val_score = learning_curve(model, x_train, y_train, n_jobs=-1,\n",
    "                                              cv=5, scoring='accuracy',\n",
    "                                               train_sizes=np.linspace(0.1, 1, 10))\n",
    "    \n",
    "    \n",
    "    plt.figure(figsize=(12, 8))\n",
    "    plt.plot(N, train_score.mean(axis=1), 'ro--', label='train score')\n",
    "    plt.plot(N, val_score.mean(axis=1), 'bD-.', label='validation score')\n",
    "    plt.grid()\n",
    "    plt.legend()"
   ]
  },
  {
   "cell_type": "code",
   "execution_count": 37,
   "id": "103f3c07",
   "metadata": {
    "scrolled": false
   },
   "outputs": [
    {
     "name": "stdout",
     "output_type": "stream",
     "text": [
      "KNN\n",
      "[[70 13]\n",
      " [13 88]]\n",
      "              precision    recall  f1-score   support\n",
      "\n",
      "    Abscence       0.84      0.84      0.84        83\n",
      "    Présence       0.87      0.87      0.87       101\n",
      "\n",
      "    accuracy                           0.86       184\n",
      "   macro avg       0.86      0.86      0.86       184\n",
      "weighted avg       0.86      0.86      0.86       184\n",
      "\n",
      "RF\n",
      "[[70 13]\n",
      " [ 4 97]]\n",
      "              precision    recall  f1-score   support\n",
      "\n",
      "    Abscence       0.95      0.84      0.89        83\n",
      "    Présence       0.88      0.96      0.92       101\n",
      "\n",
      "    accuracy                           0.91       184\n",
      "   macro avg       0.91      0.90      0.91       184\n",
      "weighted avg       0.91      0.91      0.91       184\n",
      "\n",
      "SVC\n",
      "[[66 17]\n",
      " [ 9 92]]\n",
      "              precision    recall  f1-score   support\n",
      "\n",
      "    Abscence       0.88      0.80      0.84        83\n",
      "    Présence       0.84      0.91      0.88       101\n",
      "\n",
      "    accuracy                           0.86       184\n",
      "   macro avg       0.86      0.85      0.86       184\n",
      "weighted avg       0.86      0.86      0.86       184\n",
      "\n"
     ]
    },
    {
     "data": {
      "image/png": "[encoded data removed]",
      "text/plain": [
       "<Figure size 864x576 with 1 Axes>"
      ]
     },
     "metadata": {
      "needs_background": "light"
     },
     "output_type": "display_data"
    },
    {
     "data": {
      "image/png": "[encoded data removed]",
      "text/plain": [
       "<Figure size 864x576 with 1 Axes>"
      ]
     },
     "metadata": {
      "needs_background": "light"
     },
     "output_type": "display_data"
    },
    {
     "data": {
      "image/png": "[encoded data removed]",
      "text/plain": [
       "<Figure size 864x576 with 1 Axes>"
      ]
     },
     "metadata": {
      "needs_background": "light"
     },
     "output_type": "display_data"
    }
   ],
   "source": [
    "for name, model in modeles.items():\n",
    "    print(name)\n",
    "    evaluation(model)"
   ]
  },
  {
   "cell_type": "code",
   "execution_count": null,
   "id": "85d66c74",
   "metadata": {},
   "outputs": [],
   "source": []
  }
 ],
 "metadata": {
  "kernelspec": {
   "display_name": "Python 3",
   "language": "python",
   "name": "python3"
  },
  "language_info": {
   "codemirror_mode": {
    "name": "ipython",
    "version": 3
   },
   "file_extension": ".py",
   "mimetype": "text/x-python",
   "name": "python",
   "nbconvert_exporter": "python",
   "pygments_lexer": "ipython3",
   "version": "3.8.8"
  }
 },
 "nbformat": 4,
 "nbformat_minor": 5
}
